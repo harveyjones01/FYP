{
 "cells": [
  {
   "cell_type": "code",
   "execution_count": 1,
   "id": "f27ed2d5",
   "metadata": {},
   "outputs": [],
   "source": [
    "import pandas as pd\n",
    "import numpy as np\n",
    "import seaborn as sns\n",
    "import os\n",
    "import matplotlib.pyplot as plt\n",
    "from sklearn.linear_model import LogisticRegression\n",
    "from sklearn.ensemble import GradientBoostingClassifier, RandomForestClassifier\n",
    "from sklearn import model_selection\n",
    "from sklearn.metrics import classification_report\n",
    "from sklearn.utils import resample\n",
    "import getCurrentdata\n",
    "from sklearn.neural_network import MLPClassifier\n"
   ]
  },
  {
   "cell_type": "code",
   "execution_count": 13,
   "id": "995cd377",
   "metadata": {},
   "outputs": [
    {
     "name": "stderr",
     "output_type": "stream",
     "text": [
      "/var/folders/23/3sxf7w4956vcps8bsny7xwrc0000gn/T/ipykernel_3591/311961423.py:5: FutureWarning: Dropping of nuisance columns in DataFrame reductions (with 'numeric_only=None') is deprecated; in a future version this will raise TypeError.  Select only valid columns before calling the reduction.\n",
      "  normalized_df=(df-df.mean())/df.std()\n"
     ]
    }
   ],
   "source": [
    "df = pd.read_csv('new.csv')\n",
    "df = df.dropna()\n",
    "x_cols = ['Price', 'Open', 'High', 'Low', 'Vol.']\n",
    "y_cols = ['Class']\n",
    "normalized_df=(df-df.mean())/df.std()\n",
    "y = df[y_cols]\n",
    "x = df[x_cols]\n",
    "#x, y = resample(x, y)\n",
    "\n",
    "x_train, x_test, y_train, y_test = model_selection.train_test_split(x, y, test_size=0.9)"
   ]
  },
  {
   "cell_type": "code",
   "execution_count": 27,
   "id": "f8507cf4",
   "metadata": {},
   "outputs": [],
   "source": [
    "log_regression = LogisticRegression(random_state=0)\n",
    "gradient_boost = GradientBoostingClassifier()\n",
    "random_forest = RandomForestClassifier(n_estimators=100)\n",
    "LSTM = MLPClassifier(solver='lbfgs', alpha=1e-5, hidden_layer_sizes=(5, 2), random_state=1)"
   ]
  },
  {
   "cell_type": "code",
   "execution_count": 28,
   "id": "1aef0ba6",
   "metadata": {},
   "outputs": [
    {
     "name": "stderr",
     "output_type": "stream",
     "text": [
      "/Applications/anaconda3/lib/python3.9/site-packages/sklearn/utils/validation.py:993: DataConversionWarning: A column-vector y was passed when a 1d array was expected. Please change the shape of y to (n_samples, ), for example using ravel().\n",
      "  y = column_or_1d(y, warn=True)\n",
      "/Applications/anaconda3/lib/python3.9/site-packages/sklearn/ensemble/_gb.py:494: DataConversionWarning: A column-vector y was passed when a 1d array was expected. Please change the shape of y to (n_samples, ), for example using ravel().\n",
      "  y = column_or_1d(y, warn=True)\n",
      "/var/folders/23/3sxf7w4956vcps8bsny7xwrc0000gn/T/ipykernel_3591/491877385.py:3: DataConversionWarning: A column-vector y was passed when a 1d array was expected. Please change the shape of y to (n_samples,), for example using ravel().\n",
      "  random_forest.fit(x_train, y_train)\n",
      "/Applications/anaconda3/lib/python3.9/site-packages/sklearn/neural_network/_multilayer_perceptron.py:1109: DataConversionWarning: A column-vector y was passed when a 1d array was expected. Please change the shape of y to (n_samples, ), for example using ravel().\n",
      "  y = column_or_1d(y, warn=True)\n",
      "/Applications/anaconda3/lib/python3.9/site-packages/sklearn/neural_network/_multilayer_perceptron.py:549: ConvergenceWarning: lbfgs failed to converge (status=2):\n",
      "ABNORMAL_TERMINATION_IN_LNSRCH.\n",
      "\n",
      "Increase the number of iterations (max_iter) or scale the data as shown in:\n",
      "    https://scikit-learn.org/stable/modules/preprocessing.html\n",
      "  self.n_iter_ = _check_optimize_result(\"lbfgs\", opt_res, self.max_iter)\n"
     ]
    },
    {
     "data": {
      "text/plain": [
       "MLPClassifier(alpha=1e-05, hidden_layer_sizes=(5, 2), random_state=1,\n",
       "              solver='lbfgs')"
      ]
     },
     "execution_count": 28,
     "metadata": {},
     "output_type": "execute_result"
    }
   ],
   "source": [
    "log_regression.fit(x_train, y_train)\n",
    "gradient_boost.fit(x_train, y_train)\n",
    "random_forest.fit(x_train, y_train)\n",
    "LSTM.fit(x_train, y_train)"
   ]
  },
  {
   "cell_type": "code",
   "execution_count": 23,
   "id": "f91f1274",
   "metadata": {},
   "outputs": [
    {
     "name": "stdout",
     "output_type": "stream",
     "text": [
      "              precision    recall  f1-score   support\n",
      "\n",
      "         bad       0.49      1.00      0.66      1418\n",
      "        good       0.00      0.00      0.00      1449\n",
      "\n",
      "    accuracy                           0.49      2867\n",
      "   macro avg       0.25      0.50      0.33      2867\n",
      "weighted avg       0.24      0.49      0.33      2867\n",
      "\n"
     ]
    },
    {
     "name": "stderr",
     "output_type": "stream",
     "text": [
      "/Applications/anaconda3/lib/python3.9/site-packages/sklearn/metrics/_classification.py:1318: UndefinedMetricWarning: Precision and F-score are ill-defined and being set to 0.0 in labels with no predicted samples. Use `zero_division` parameter to control this behavior.\n",
      "  _warn_prf(average, modifier, msg_start, len(result))\n",
      "/Applications/anaconda3/lib/python3.9/site-packages/sklearn/metrics/_classification.py:1318: UndefinedMetricWarning: Precision and F-score are ill-defined and being set to 0.0 in labels with no predicted samples. Use `zero_division` parameter to control this behavior.\n",
      "  _warn_prf(average, modifier, msg_start, len(result))\n",
      "/Applications/anaconda3/lib/python3.9/site-packages/sklearn/metrics/_classification.py:1318: UndefinedMetricWarning: Precision and F-score are ill-defined and being set to 0.0 in labels with no predicted samples. Use `zero_division` parameter to control this behavior.\n",
      "  _warn_prf(average, modifier, msg_start, len(result))\n"
     ]
    }
   ],
   "source": [
    "predict_1 = log_regression.predict(x_test)\n",
    "print(classification_report(y_test, predict_1))"
   ]
  },
  {
   "cell_type": "code",
   "execution_count": 7,
   "id": "5d7b55be",
   "metadata": {},
   "outputs": [
    {
     "name": "stdout",
     "output_type": "stream",
     "text": [
      "              precision    recall  f1-score   support\n",
      "\n",
      "         bad       0.71      0.56      0.63      1315\n",
      "        good       0.74      0.85      0.79      1974\n",
      "\n",
      "    accuracy                           0.73      3289\n",
      "   macro avg       0.73      0.70      0.71      3289\n",
      "weighted avg       0.73      0.73      0.73      3289\n",
      "\n"
     ]
    }
   ],
   "source": [
    "predict_2 = gradient_boost.predict(x_test)\n",
    "print(classification_report(y_test, predict_2))"
   ]
  },
  {
   "cell_type": "code",
   "execution_count": 8,
   "id": "e188f84c",
   "metadata": {},
   "outputs": [
    {
     "name": "stdout",
     "output_type": "stream",
     "text": [
      "              precision    recall  f1-score   support\n",
      "\n",
      "         bad       0.72      0.63      0.67      1315\n",
      "        good       0.77      0.84      0.80      1974\n",
      "\n",
      "    accuracy                           0.75      3289\n",
      "   macro avg       0.75      0.73      0.74      3289\n",
      "weighted avg       0.75      0.75      0.75      3289\n",
      "\n"
     ]
    }
   ],
   "source": [
    "predict_3 = random_forest.predict(x_test)\n",
    "print(classification_report(y_test, predict_3))"
   ]
  },
  {
   "cell_type": "code",
   "execution_count": 9,
   "id": "78b49f6a",
   "metadata": {},
   "outputs": [
    {
     "name": "stdout",
     "output_type": "stream",
     "text": [
      "0.585112205801861\n",
      "0.7547892720306514\n",
      "0.7791461412151067\n"
     ]
    }
   ],
   "source": [
    "print(log_regression.score(x, y))\n",
    "print(gradient_boost.score(x, y))\n",
    "print(random_forest.score(x, y))"
   ]
  },
  {
   "cell_type": "code",
   "execution_count": 5,
   "id": "a6e4b8ba",
   "metadata": {},
   "outputs": [
    {
     "name": "stdout",
     "output_type": "stream",
     "text": [
      "good\n",
      "bad\n",
      "bad\n"
     ]
    },
    {
     "name": "stderr",
     "output_type": "stream",
     "text": [
      "/Applications/anaconda3/lib/python3.9/site-packages/sklearn/base.py:450: UserWarning: X does not have valid feature names, but LogisticRegression was fitted with feature names\n",
      "  warnings.warn(\n",
      "/Applications/anaconda3/lib/python3.9/site-packages/sklearn/base.py:450: UserWarning: X does not have valid feature names, but GradientBoostingClassifier was fitted with feature names\n",
      "  warnings.warn(\n",
      "/Applications/anaconda3/lib/python3.9/site-packages/sklearn/base.py:450: UserWarning: X does not have valid feature names, but RandomForestClassifier was fitted with feature names\n",
      "  warnings.warn(\n"
     ]
    }
   ],
   "source": [
    "In = getCurrentdata.get_data()\n",
    "print(log_regression.predict([In])[0])\n",
    "print(gradient_boost.predict([In])[0])\n",
    "print(random_forest.predict([In])[0])"
   ]
  },
  {
   "cell_type": "code",
   "execution_count": 29,
   "id": "ac97ffe1",
   "metadata": {},
   "outputs": [
    {
     "name": "stdout",
     "output_type": "stream",
     "text": [
      "              precision    recall  f1-score   support\n",
      "\n",
      "         bad       0.98      0.03      0.06      1418\n",
      "        good       0.51      1.00      0.68      1449\n",
      "\n",
      "    accuracy                           0.52      2867\n",
      "   macro avg       0.75      0.52      0.37      2867\n",
      "weighted avg       0.74      0.52      0.37      2867\n",
      "\n"
     ]
    }
   ],
   "source": [
    "predict = LSTM.predict(x_test)\n",
    "print(classification_report(y_test, predict))"
   ]
  },
  {
   "cell_type": "code",
   "execution_count": null,
   "id": "fb928624",
   "metadata": {},
   "outputs": [],
   "source": []
  }
 ],
 "metadata": {
  "kernelspec": {
   "display_name": "Python 3 (ipykernel)",
   "language": "python",
   "name": "python3"
  },
  "language_info": {
   "codemirror_mode": {
    "name": "ipython",
    "version": 3
   },
   "file_extension": ".py",
   "mimetype": "text/x-python",
   "name": "python",
   "nbconvert_exporter": "python",
   "pygments_lexer": "ipython3",
   "version": "3.9.7"
  }
 },
 "nbformat": 4,
 "nbformat_minor": 5
}
